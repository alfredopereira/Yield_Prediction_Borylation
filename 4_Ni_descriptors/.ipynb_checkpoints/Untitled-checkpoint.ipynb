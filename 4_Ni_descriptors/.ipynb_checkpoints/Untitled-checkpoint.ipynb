{
 "cells": [
  {
   "cell_type": "code",
   "execution_count": 1,
   "id": "ace8c290-5149-4bbd-b72d-bbd7d21a4d1c",
   "metadata": {},
   "outputs": [],
   "source": [
    "from rdkit import Chem\n",
    "from rdkit.Chem.Draw import IPythonConsole"
   ]
  },
  {
   "cell_type": "code",
   "execution_count": 2,
   "id": "a0f9b001-77b2-48e3-873f-2946a08d1f2a",
   "metadata": {},
   "outputs": [],
   "source": [
    "def is_transition_metal(at):\n",
    "    n = at.GetAtomicNum()\n",
    "    return (n>=22 and n<=29) or (n>=40 and n<=47) or (n>=72 and n<=79)\n",
    "def set_dative_bonds(mol, fromAtoms=(7,8)):\n",
    "    \"\"\" convert some bonds to dative\n",
    "\n",
    "    Replaces some single bonds between metals and atoms with atomic numbers in fomAtoms\n",
    "    with dative bonds. The replacement is only done if the atom has \"too many\" bonds.\n",
    "\n",
    "    Returns the modified molecule.\n",
    "\n",
    "    \"\"\"\n",
    "    pt = Chem.GetPeriodicTable()\n",
    "    rwmol = Chem.RWMol(mol)\n",
    "    rwmol.UpdatePropertyCache(strict=False)\n",
    "    metals = [at for at in rwmol.GetAtoms() if is_transition_metal(at)]\n",
    "    for metal in metals:\n",
    "        for nbr in metal.GetNeighbors():\n",
    "            if nbr.GetAtomicNum() in fromAtoms and \\\n",
    "               nbr.GetExplicitValence()>pt.GetDefaultValence(nbr.GetAtomicNum()) and \\\n",
    "               rwmol.GetBondBetweenAtoms(nbr.GetIdx(),metal.GetIdx()).GetBondType() == Chem.BondType.SINGLE:\n",
    "                rwmol.RemoveBond(nbr.GetIdx(),metal.GetIdx())\n",
    "                rwmol.AddBond(nbr.GetIdx(),metal.GetIdx(),Chem.BondType.DATIVE)\n",
    "    return rwmol"
   ]
  },
  {
   "cell_type": "code",
   "execution_count": 6,
   "id": "08957b3b-5642-45ab-8161-a67b8071bbb0",
   "metadata": {},
   "outputs": [
    {
     "data": {
      "image/png": "[encoded data removed]",
      "text/plain": [
       "<rdkit.Chem.rdchem.RWMol at 0x7f170b965860>"
      ]
     },
     "execution_count": 6,
     "metadata": {},
     "output_type": "execute_result"
    }
   ],
   "source": [
    "m = Chem.MolFromSmiles('[Cl-][Ni+2]12([Cl-])[N]3=CC=CN3C4=CC=CC(N5C=CC=[N]51)=[N]42', sanitize=False)\n",
    "m2 = set_dative_bonds(m)\n",
    "m2"
   ]
  },
  {
   "cell_type": "code",
   "execution_count": 4,
   "id": "ae5b697b-67d0-4f3c-8085-05f2c095c921",
   "metadata": {},
   "outputs": [
    {
     "name": "stdout",
     "output_type": "stream",
     "text": [
      "DATIVE\n"
     ]
    }
   ],
   "source": [
    "# we can check the bond between nitrogen and platinum\n",
    "print(m2.GetBondBetweenAtoms(1,4).GetBondType())"
   ]
  },
  {
   "cell_type": "code",
   "execution_count": 7,
   "id": "80f9af25-0e4e-415d-8a34-63f5273c04d7",
   "metadata": {},
   "outputs": [
    {
     "name": "stdout",
     "output_type": "stream",
     "text": [
      "[Cl-][Ni+2]12([Cl-])<-N3=CC=CN3C3=CC=CC(=N->13)N1C=CC=N->21\n"
     ]
    }
   ],
   "source": [
    "# It also shows up in the output SMILES\n",
    "# This is an RDKit extension to SMILES\n",
    "print(Chem.MolToSmiles(m2))"
   ]
  },
  {
   "cell_type": "code",
   "execution_count": null,
   "id": "f523956f-69da-45f1-9ac2-c2015e96f60f",
   "metadata": {},
   "outputs": [],
   "source": []
  }
 ],
 "metadata": {
  "kernelspec": {
   "display_name": "Python 3 (ipykernel)",
   "language": "python",
   "name": "python3"
  },
  "language_info": {
   "codemirror_mode": {
    "name": "ipython",
    "version": 3
   },
   "file_extension": ".py",
   "mimetype": "text/x-python",
   "name": "python",
   "nbconvert_exporter": "python",
   "pygments_lexer": "ipython3",
   "version": "3.9.12"
  }
 },
 "nbformat": 4,
 "nbformat_minor": 5
}
