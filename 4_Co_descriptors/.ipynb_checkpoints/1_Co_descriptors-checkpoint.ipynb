{
 "cells": [
  {
   "cell_type": "code",
   "execution_count": null,
   "id": "cb828b94-6cc1-4a38-8446-3517b973b647",
   "metadata": {},
   "outputs": [],
   "source": [
    "from rdkit.Chem import AllChem\n",
    "from rdkit import Chem\n",
    "from rdkit.Chem import Descriptors\n",
    "from rdkit.ML.Descriptors import MoleculeDescriptors\n",
    "from rdkit.Chem.Draw import IPythonConsole\n",
    "\n",
    "import pandas as pd\n",
    "\n",
    "from molecular_rectifier import Rectifier"
   ]
  },
  {
   "cell_type": "code",
   "execution_count": null,
   "id": "a83ea19d-9e89-4a4f-bb72-943934f0fafe",
   "metadata": {},
   "outputs": [],
   "source": [
    "dataset = pd.read_csv('../3_makeSmiles/Co_borylation_CATsmiles.can', header=None, names=['SMILES'])"
   ]
  },
  {
   "cell_type": "code",
   "execution_count": null,
   "id": "0eed0d95-6bfc-4e9f-a4ec-c7284239ad79",
   "metadata": {},
   "outputs": [],
   "source": [
    "mols = [Chem.MolFromSmiles(smi, sanitize=True) for smi in dataset.SMILES]"
   ]
  },
  {
   "cell_type": "code",
   "execution_count": null,
   "id": "509c3086-aa9a-4c18-9ad4-f96ba1ccaeeb",
   "metadata": {},
   "outputs": [],
   "source": [
    "calc = MoleculeDescriptors.MolecularDescriptorCalculator([x[0] for x in Descriptors._descList])\n",
    "desc_names = calc.GetDescriptorNames()  "
   ]
  },
  {
   "cell_type": "code",
   "execution_count": null,
   "id": "36a42f38-a108-46b7-9683-02c685872c01",
   "metadata": {},
   "outputs": [],
   "source": [
    "Mol_descriptors =[]\n",
    "for mol in mols:\n",
    "    # add hydrogens to molecules\n",
    "    mol=Chem.AddHs(mol)\n",
    "    # Calculate all 200 descriptors for each molecule\n",
    "    descriptors = calc.CalcDescriptors(mol)\n",
    "    Mol_descriptors.append(descriptors) "
   ]
  },
  {
   "cell_type": "code",
   "execution_count": null,
   "id": "2f0de168-0a8d-4ecc-9796-a013524d1d6a",
   "metadata": {},
   "outputs": [],
   "source": [
    "df_with_200_descriptors = pd.DataFrame(Mol_descriptors,columns=desc_names)"
   ]
  },
  {
   "cell_type": "code",
   "execution_count": null,
   "id": "a42165a2-1e7d-4b94-b07d-712f78b25948",
   "metadata": {},
   "outputs": [],
   "source": []
  }
 ],
 "metadata": {
  "kernelspec": {
   "display_name": "Python 3 (ipykernel)",
   "language": "python",
   "name": "python3"
  },
  "language_info": {
   "codemirror_mode": {
    "name": "ipython",
    "version": 3
   },
   "file_extension": ".py",
   "mimetype": "text/x-python",
   "name": "python",
   "nbconvert_exporter": "python",
   "pygments_lexer": "ipython3",
   "version": "3.9.12"
  }
 },
 "nbformat": 4,
 "nbformat_minor": 5
}
