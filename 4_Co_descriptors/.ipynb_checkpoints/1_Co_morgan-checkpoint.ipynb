{
 "cells": [
  {
   "cell_type": "code",
   "execution_count": 1,
   "id": "cb828b94-6cc1-4a38-8446-3517b973b647",
   "metadata": {},
   "outputs": [],
   "source": [
    "from rdkit.Chem import AllChem\n",
    "from rdkit import Chem\n",
    "\n",
    "import pandas as pd\n",
    "import numpy as np"
   ]
  },
  {
   "cell_type": "code",
   "execution_count": 2,
   "id": "ba804e99-08d6-4490-8297-4365c12e1573",
   "metadata": {},
   "outputs": [],
   "source": [
    "def morgan_fingerprint(data):\n",
    "    morganFP = []\n",
    "    for smi in data:\n",
    "        mol = Chem.MolFromSmiles(smi)\n",
    "        #mol = Chem.AddHs(mol)\n",
    "        #AllChem.EmbedMolecule(mol, randomSeed=0xf00d)\n",
    "        #AllChem.MMFFOptimizeMolecule(mol)\n",
    "        #fpts =  AllChem.GetMorganFingerprintAsBitVect(mol,2,256)\n",
    "        fpts =  AllChem.RDKFingerprint(mol)\n",
    "        mfpts = np.array(fpts)\n",
    "        morganFP.append(mfpts)\n",
    "    df_FP = pd.DataFrame(np.array(morganFP))\n",
    "    return df_FP"
   ]
  },
  {
   "cell_type": "code",
   "execution_count": 3,
   "id": "a83ea19d-9e89-4a4f-bb72-943934f0fafe",
   "metadata": {},
   "outputs": [
    {
     "data": {
      "text/plain": [
       "(938, 256)"
      ]
     },
     "execution_count": 3,
     "metadata": {},
     "output_type": "execute_result"
    }
   ],
   "source": [
    "dataset = pd.read_csv('../3_Co_makeSmiles/Co_borylation_RCTAsmiles.can', header=None, names=['SMILES'])\n",
    "descRCTA = morgan_fingerprint(dataset['SMILES'])\n",
    "descRCTA = descRCTA.add_prefix('RCTA_')\n",
    "descRCTA.shape"
   ]
  },
  {
   "cell_type": "code",
   "execution_count": 4,
   "id": "c187a569-ebe0-4c72-aa0d-d5f69fba5cee",
   "metadata": {},
   "outputs": [
    {
     "data": {
      "text/plain": [
       "(938, 256)"
      ]
     },
     "execution_count": 4,
     "metadata": {},
     "output_type": "execute_result"
    }
   ],
   "source": [
    "dataset = pd.read_csv('../3_Co_makeSmiles/Co_borylation_RCTBsmiles.can', header=None, names=['SMILES'])\n",
    "descRCTB = morgan_fingerprint(dataset['SMILES'])\n",
    "descRCTB = descRCTB.add_prefix('RCTB_')\n",
    "descRCTB.shape"
   ]
  },
  {
   "cell_type": "code",
   "execution_count": 5,
   "id": "8cbd4b88-5688-4413-aca2-5fe5ddf267d0",
   "metadata": {},
   "outputs": [
    {
     "data": {
      "text/plain": [
       "(938, 256)"
      ]
     },
     "execution_count": 5,
     "metadata": {},
     "output_type": "execute_result"
    }
   ],
   "source": [
    "dataset = pd.read_csv('../3_Co_makeSmiles/Co_borylation_CATsmiles.can', header=None, names=['SMILES'])\n",
    "descCAT = morgan_fingerprint(dataset['SMILES'])\n",
    "descCAT = descCAT.add_prefix('CAT_')\n",
    "descCAT.shape"
   ]
  },
  {
   "cell_type": "code",
   "execution_count": 6,
   "id": "05ada014-d5f5-42f2-827c-a9c0d69b0594",
   "metadata": {},
   "outputs": [
    {
     "data": {
      "text/plain": [
       "(938, 256)"
      ]
     },
     "execution_count": 6,
     "metadata": {},
     "output_type": "execute_result"
    }
   ],
   "source": [
    "dataset = pd.read_csv('../3_Co_makeSmiles/Co_borylation_PROsmiles.can', header=None, names=['SMILES'])\n",
    "descPRO = morgan_fingerprint(dataset['SMILES'])\n",
    "descPRO = descPRO.add_prefix('PRO_')\n",
    "descPRO.shape"
   ]
  },
  {
   "cell_type": "code",
   "execution_count": 7,
   "id": "abd8c240-ce45-49a4-a4db-984161182c88",
   "metadata": {},
   "outputs": [
    {
     "data": {
      "text/plain": [
       "(938, 1)"
      ]
     },
     "execution_count": 7,
     "metadata": {},
     "output_type": "execute_result"
    }
   ],
   "source": [
    "ADDsmiles = pd.read_csv('../3_Co_makeSmiles/Co_borylation_ADDsmiles.smi', header=None, names=['ADD'])\n",
    "ADDsmiles.shape"
   ]
  },
  {
   "cell_type": "code",
   "execution_count": 8,
   "id": "4615df5a-1cf3-4211-8b89-894dc88173ee",
   "metadata": {},
   "outputs": [
    {
     "data": {
      "text/plain": [
       "(938, 1)"
      ]
     },
     "execution_count": 8,
     "metadata": {},
     "output_type": "execute_result"
    }
   ],
   "source": [
    "SOLsmiles = pd.read_csv('../3_Co_makeSmiles/Co_borylation_SOLsmiles.smi', header=None, names=['SOL'])\n",
    "SOLsmiles.shape"
   ]
  },
  {
   "cell_type": "code",
   "execution_count": 9,
   "id": "47275a1f-df51-4deb-b27a-8df031b05719",
   "metadata": {},
   "outputs": [
    {
     "data": {
      "text/plain": [
       "(938, 1)"
      ]
     },
     "execution_count": 9,
     "metadata": {},
     "output_type": "execute_result"
    }
   ],
   "source": [
    "all_yields = pd.read_csv('../3_Co_makeSmiles/Co_borylation_yield.csv', header=None, names=['yield'])\n",
    "all_yields.shape"
   ]
  },
  {
   "cell_type": "code",
   "execution_count": 10,
   "id": "c246be60-7138-4dcb-a955-a361d69cf3a0",
   "metadata": {},
   "outputs": [],
   "source": [
    "data = pd.concat([descRCTA, descRCTB, descCAT, descPRO, ADDsmiles, SOLsmiles], axis=1)\n",
    "#data = pd.concat([descRCTA, descRCTB, descCAT, descPRO], axis=1)\n",
    "data.to_csv('Co_borylation_morg.csv', index=False)\n",
    "\n",
    "data = pd.concat([data, all_yields], axis=1)\n",
    "data.to_csv('Co_borylation_morg_yields.csv', index=False)"
   ]
  },
  {
   "cell_type": "code",
   "execution_count": null,
   "id": "8c917e43-7748-4e61-9f7a-1c46f16cbc51",
   "metadata": {},
   "outputs": [],
   "source": []
  }
 ],
 "metadata": {
  "kernelspec": {
   "display_name": "Python 3 (ipykernel)",
   "language": "python",
   "name": "python3"
  },
  "language_info": {
   "codemirror_mode": {
    "name": "ipython",
    "version": 3
   },
   "file_extension": ".py",
   "mimetype": "text/x-python",
   "name": "python",
   "nbconvert_exporter": "python",
   "pygments_lexer": "ipython3",
   "version": "3.9.12"
  }
 },
 "nbformat": 4,
 "nbformat_minor": 5
}
