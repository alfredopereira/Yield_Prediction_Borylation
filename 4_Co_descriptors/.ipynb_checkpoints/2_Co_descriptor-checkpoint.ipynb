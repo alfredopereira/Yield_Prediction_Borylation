{
 "cells": [
  {
   "cell_type": "code",
   "execution_count": null,
   "id": "cb828b94-6cc1-4a38-8446-3517b973b647",
   "metadata": {},
   "outputs": [],
   "source": [
    "from rdkit.Chem import AllChem\n",
    "from rdkit import Chem\n",
    "from rdkit.Chem import Descriptors\n",
    "from rdkit.ML.Descriptors import MoleculeDescriptors\n",
    "\n",
    "from rdkit.Chem import Draw\n",
    "from rdkit.Chem.Draw import IPythonConsole\n",
    "\n",
    "from mordred import Calculator, descriptors\n",
    "\n",
    "import pandas as pd\n",
    "\n",
    "import numpy as np"
   ]
  },
  {
   "cell_type": "code",
   "execution_count": null,
   "id": "ba804e99-08d6-4490-8297-4365c12e1573",
   "metadata": {},
   "outputs": [],
   "source": [
    "def mordred_descriptors(data):\n",
    "    mols = []\n",
    "    for smi in data:\n",
    "        mol = Chem.MolFromSmiles(smi)\n",
    "        #mol = Chem.AddHs(mol)\n",
    "        #AllChem.EmbedMolecule(mol, randomSeed=0xf00d)\n",
    "        #AllChem.MMFFOptimizeMolecule(mol)\n",
    "        mols.append(mol)\n",
    "    calc = Calculator(descriptors, ignore_3D=True)\n",
    "    df = calc.pandas(mols)     \n",
    "    df = df.select_dtypes(include=np.number).astype('float32')\n",
    "    df = df.loc[:, df.var() > 0.0]\n",
    "    return df"
   ]
  },
  {
   "cell_type": "code",
   "execution_count": null,
   "id": "a83ea19d-9e89-4a4f-bb72-943934f0fafe",
   "metadata": {},
   "outputs": [],
   "source": [
    "dataset = pd.read_csv('../3_makeSmiles/Co_borylation_RCTAsmiles.can', header=None, names=['SMILES'])\n",
    "descRCTA = mordred_descriptors(dataset['SMILES'])\n",
    "descRCTA = descRCTA.add_prefix('RCTA_')\n",
    "descRCTA.shape"
   ]
  },
  {
   "cell_type": "code",
   "execution_count": null,
   "id": "c187a569-ebe0-4c72-aa0d-d5f69fba5cee",
   "metadata": {},
   "outputs": [],
   "source": [
    "dataset = pd.read_csv('../3_makeSmiles/Co_borylation_RCTBsmiles.can', header=None, names=['SMILES'])\n",
    "descRCTB = mordred_descriptors(dataset['SMILES'])\n",
    "descRCTB = descRCTB.add_prefix('RCTB_')\n",
    "descRCTB.shape"
   ]
  },
  {
   "cell_type": "code",
   "execution_count": null,
   "id": "8cbd4b88-5688-4413-aca2-5fe5ddf267d0",
   "metadata": {},
   "outputs": [],
   "source": [
    "dataset = pd.read_csv('../3_makeSmiles/Co_borylation_CATsmiles.can', header=None, names=['SMILES'])\n",
    "descCAT = mordred_descriptors(dataset['SMILES'])\n",
    "descCAT = descCAT.add_prefix('CAT_')\n",
    "descCAT.shape"
   ]
  },
  {
   "cell_type": "code",
   "execution_count": null,
   "id": "05ada014-d5f5-42f2-827c-a9c0d69b0594",
   "metadata": {},
   "outputs": [],
   "source": [
    "dataset = pd.read_csv('../3_makeSmiles/Co_borylation_PROsmiles.can', header=None, names=['SMILES'])\n",
    "descPRO = mordred_descriptors(dataset['SMILES'])\n",
    "descPRO = descPRO.add_prefix('PRO_')\n",
    "descPRO.shape"
   ]
  },
  {
   "cell_type": "code",
   "execution_count": null,
   "id": "abd8c240-ce45-49a4-a4db-984161182c88",
   "metadata": {},
   "outputs": [],
   "source": [
    "all_yields = pd.read_csv('../3_makeSmiles/Co_borylation_yield.csv', header=None, names=['yield'])\n",
    "all_yields.shape"
   ]
  },
  {
   "cell_type": "code",
   "execution_count": null,
   "id": "4759d020-7caf-44f2-81c5-94875f4c83c1",
   "metadata": {},
   "outputs": [],
   "source": [
    "rxnfp = pd.read_csv('../4_fingerprint/Co_borylation_fps.csv')\n",
    "rxnfp.shape"
   ]
  },
  {
   "cell_type": "code",
   "execution_count": null,
   "id": "c246be60-7138-4dcb-a955-a361d69cf3a0",
   "metadata": {},
   "outputs": [],
   "source": [
    "all_descriptors = pd.concat([rxnfp, descRCTA, descRCTB, descCAT, descPRO, all_yields], axis=1)\n",
    "all_descriptors.to_csv('all_descriptors.csv', index=False)\n",
    "all_descriptors.shape"
   ]
  },
  {
   "cell_type": "code",
   "execution_count": null,
   "id": "8c917e43-7748-4e61-9f7a-1c46f16cbc51",
   "metadata": {},
   "outputs": [],
   "source": []
  }
 ],
 "metadata": {
  "kernelspec": {
   "display_name": "Python 3 (ipykernel)",
   "language": "python",
   "name": "python3"
  },
  "language_info": {
   "codemirror_mode": {
    "name": "ipython",
    "version": 3
   },
   "file_extension": ".py",
   "mimetype": "text/x-python",
   "name": "python",
   "nbconvert_exporter": "python",
   "pygments_lexer": "ipython3",
   "version": "3.9.12"
  }
 },
 "nbformat": 4,
 "nbformat_minor": 5
}
